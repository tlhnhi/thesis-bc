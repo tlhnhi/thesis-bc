{
 "cells": [
  {
   "cell_type": "markdown",
   "metadata": {},
   "source": [
    "## Train-Test Split Dataset\n",
    "\n",
    "### Before using this notebook\n",
    "\n",
    "- Install dependencies\n",
    "```barsh\n",
    "pip install opencv-contrib-python\n",
    "\n",
    "- Create an **empty** destination folder to save the predicted result\n",
    "- Edit `src_path` and `des_path` to correct path\n",
    "\n",
    "### Running\n",
    "\n",
    "Follow above directions to setup and run this cell to check"
   ]
  },
  {
   "cell_type": "code",
   "execution_count": 1,
   "metadata": {},
   "outputs": [],
   "source": [
    "import cv2\n",
    "import os\n",
    "import glob\n",
    "import random"
   ]
  },
  {
   "cell_type": "code",
   "execution_count": 2,
   "metadata": {},
   "outputs": [],
   "source": [
    "src_path = './labels'# Path to dataset folder of 5 labeled cells sub-folders basophil, eosinophil, lymphocyte, monocyte, neutrophil\n",
    "des_path = './dest'  # Path to new folder for saving splited dataset\n",
    "train_size = 0.8     # Modify the ratio of training set\n",
    "test_size = 0.1      # Modify the ratio of testing set\n",
    "cell_group = \"wbc\"   # or \"rbc\" for red blood cells"
   ]
  },
  {
   "cell_type": "code",
   "execution_count": 3,
   "metadata": {},
   "outputs": [],
   "source": [
    "def move_files_randomly(arr_files, length, path):\n",
    "    for i in range(0,length):\n",
    "        file = random.choice(arr_files)\n",
    "        arr_files.remove(file)\n",
    "        dest = os.path.join(path, os.path.basename(os.path.dirname(file)))\n",
    "        if not os.path.exists(dest):\n",
    "            os.mkdir(dest) \n",
    "        img = cv2.imread(file)\n",
    "        cv2.imwrite(os.path.join(dest, os.path.basename(file)), img)"
   ]
  },
  {
   "cell_type": "code",
   "execution_count": 4,
   "metadata": {},
   "outputs": [],
   "source": [
    "class_name = {\n",
    "    'wbc': ['lymphocyte', 'neutrophil', 'basophil', 'monocyte', 'eosinophil'],\n",
    "    'rbc': ['circular', 'elongated', 'other']\n",
    "}\n",
    "    \n",
    "def train_test_split(src_path, des_path, train_size, test_size):\n",
    "    #Check ratios\n",
    "    if train_size + test_size > 1:\n",
    "        print('Invalid sizes!')\n",
    "        return\n",
    "    if set(os.listdir(src_path)) != set(class_name[cell_group]):\n",
    "        print('Invalid source path!')\n",
    "        return\n",
    "\n",
    "    #Check dest path exists\n",
    "    if os.path.exists(des_path):  \n",
    "        print('Destination path exists!')\n",
    "        return\n",
    "    #Create dest folder with train & test sub-folder\n",
    "    train_path = os.path.join(des_path, 'train')\n",
    "    os.makedirs(train_path)\n",
    "    test_path = os.path.join(des_path, 'test')\n",
    "    os.makedirs(test_path)\n",
    "    \n",
    "    #Create valid folder\n",
    "    if train_size + test_size < 1:\n",
    "        valid_path = os.path.join(des_path, 'valid')\n",
    "        os.makedirs(valid_path)\n",
    "    for classname in class_name[cell_group]:\n",
    "        #Get all files\n",
    "        files = glob.glob(os.path.join(src_path, classname, '*'))\n",
    "        #Add files to train & test folder\n",
    "        len_train = round(len(files)*train_size)\n",
    "        len_test = round(len(files)*test_size)\n",
    "        move_files_randomly(files, len_train, train_path)\n",
    "        move_files_randomly(files, len_test, test_path)\n",
    "        if valid_path:\n",
    "            move_files_randomly(files, len(files), valid_path)"
   ]
  },
  {
   "cell_type": "code",
   "execution_count": 5,
   "metadata": {},
   "outputs": [],
   "source": [
    "train_test_split(src_path, des_path, train_size, test_size)"
   ]
  }
 ],
 "metadata": {
  "kernelspec": {
   "display_name": "Python 3",
   "language": "python",
   "name": "python3"
  },
  "language_info": {
   "codemirror_mode": {
    "name": "ipython",
    "version": 3
   },
   "file_extension": ".py",
   "mimetype": "text/x-python",
   "name": "python",
   "nbconvert_exporter": "python",
   "pygments_lexer": "ipython3",
   "version": "3.7.11"
  }
 },
 "nbformat": 4,
 "nbformat_minor": 4
}
